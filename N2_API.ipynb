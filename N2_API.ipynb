{
 "cells": [
  {
   "cell_type": "markdown",
   "metadata": {},
   "source": [
    "**API**\n",
    "\n",
    "https://www.ree.es/es/apidatos"
   ]
  },
  {
   "cell_type": "markdown",
   "metadata": {},
   "source": [
    "**1** . Extracción de Datos a Nivel Nacional:\n",
    "\n",
    "-Extraer datos de generación de energía renovable y no renovable a nivel nacional desde el 1 de enero de 2011 hasta el 31 de diciembre de 2022. La información debe ser recopilada a nivel mensual.\n",
    "\n",
    "-Transformar los datos para incluir una columna nueva que identifique si la energía es renovable o no renovable.\n",
    "\n",
    "Almacenar los datos en un DataFrame con la siguiente estructura:"
   ]
  },
  {
   "cell_type": "markdown",
   "metadata": {},
   "source": [
    "**2**.  Extracción de Datos por Comunidad Autónoma:\n",
    "\n",
    "-Extraer datos de generación de energía renovable y no renovable por Comunidad Autónoma.\n",
    "\n",
    "-Utilizar el diccionario cod_comunidades para obtener los códigos de cada comunidad autónoma.\n",
    "\n",
    "-Transformar los datos para incluir una columna que especifique la comunidad autónoma y su identificador.\n",
    "\n",
    "-Almacenar los datos en un DataFrame con la siguiente estructura:"
   ]
  },
  {
   "cell_type": "markdown",
   "metadata": {},
   "source": [
    "https://apidatos.ree.es/es/datos/generacion/evolucion-renovable-no-renovable?start_date=2022-01-01T00:00&end_date=2022-01-31T23:59&time_trunc=month\n",
    "\n",
    "\n",
    "GET /{lang}/datos/{category}/{widget}?[query]\n",
    "\n",
    "es\n",
    "generacion\n",
    "evolucion-renovable-no-renovable\n",
    "\n",
    "start_date: 01/01/2022\n",
    "end_date: 31/01/2022\n",
    "time_trunc: month"
   ]
  },
  {
   "cell_type": "code",
   "execution_count": 75,
   "metadata": {},
   "outputs": [],
   "source": [
    "import pandas as pd\n",
    "\n",
    "import requests\n",
    "\n",
    "pd.set_option(\"display.max_columns\",None)\n",
    "\n",
    "import re\n",
    "\n",
    "import datetime"
   ]
  },
  {
   "cell_type": "code",
   "execution_count": 76,
   "metadata": {},
   "outputs": [],
   "source": [
    "def llamar_api (url):\n",
    "\n",
    "    llamada = requests.get (url)\n",
    "    print (f'La llamada a la API nos ha dado una respuesta de tipo: {llamada.status_code}')\n",
    "    if llamada.status_code != 200 :\n",
    "        print (f'El motivo por el que la llamada falló es {llamada.reason}')\n",
    "    \n",
    "    else: \n",
    "        return llamada.json ()"
   ]
  },
  {
   "cell_type": "code",
   "execution_count": 93,
   "metadata": {},
   "outputs": [],
   "source": [
    "url_energia = f'https://apidatos.ree.es/es/datos/generacion/estructura-generacion?start_date=2022-01-01T00:00&end_date=2022-12-31T23:59&time_trunc=month'"
   ]
  },
  {
   "cell_type": "code",
   "execution_count": 94,
   "metadata": {},
   "outputs": [
    {
     "name": "stdout",
     "output_type": "stream",
     "text": [
      "La llamada a la API nos ha dado una respuesta de tipo: 200\n"
     ]
    }
   ],
   "source": [
    "datos_energia = llamar_api(url_energia)"
   ]
  },
  {
   "cell_type": "code",
   "execution_count": 90,
   "metadata": {},
   "outputs": [
    {
     "data": {
      "text/plain": [
       "dict_keys(['data', 'included'])"
      ]
     },
     "execution_count": 90,
     "metadata": {},
     "output_type": "execute_result"
    }
   ],
   "source": [
    "datos_energia.keys()"
   ]
  },
  {
   "cell_type": "code",
   "execution_count": 91,
   "metadata": {},
   "outputs": [
    {
     "data": {
      "text/plain": [
       "4"
      ]
     },
     "execution_count": 91,
     "metadata": {},
     "output_type": "execute_result"
    }
   ],
   "source": [
    "len(datos_energia[\"data\"])"
   ]
  },
  {
   "cell_type": "code",
   "execution_count": 92,
   "metadata": {},
   "outputs": [
    {
     "data": {
      "text/plain": [
       "{'type': 'Generación por tecnología',\n",
       " 'id': 'gen1',\n",
       " 'attributes': {'title': 'Generación por tecnología',\n",
       "  'last-update': '2022-12-12T12:48:47.000+01:00',\n",
       "  'description': None},\n",
       " 'meta': {'cache-control': {'cache': 'MISS'}}}"
      ]
     },
     "execution_count": 92,
     "metadata": {},
     "output_type": "execute_result"
    }
   ],
   "source": [
    "datos_energia[\"data\"]"
   ]
  },
  {
   "cell_type": "code",
   "execution_count": 30,
   "metadata": {},
   "outputs": [
    {
     "data": {
      "text/plain": [
       "2"
      ]
     },
     "execution_count": 30,
     "metadata": {},
     "output_type": "execute_result"
    }
   ],
   "source": [
    "len(datos_energia['included'])"
   ]
  },
  {
   "cell_type": "code",
   "execution_count": 38,
   "metadata": {},
   "outputs": [
    {
     "data": {
      "text/plain": [
       "[{'type': 'Renovable',\n",
       "  'id': '10299',\n",
       "  'groupId': None,\n",
       "  'attributes': {'title': 'Renovable',\n",
       "   'description': 'Energía renovable: incluye hidráulica, hidroeólica, eólica, solar fotovoltaica, solar térmica, otras renovables y residuos renovables.',\n",
       "   'color': '#92d050',\n",
       "   'type': 'Renovable',\n",
       "   'magnitude': None,\n",
       "   'composite': False,\n",
       "   'last-update': '2022-12-12T12:48:47.000+01:00',\n",
       "   'values': [{'value': 9750044.556,\n",
       "     'percentage': 0.40119784717736745,\n",
       "     'datetime': '2022-01-01T00:00:00.000+01:00'}]}},\n",
       " {'type': 'No renovable',\n",
       "  'id': '10298',\n",
       "  'groupId': None,\n",
       "  'attributes': {'title': 'No renovable',\n",
       "   'description': None,\n",
       "   'color': '#666666',\n",
       "   'type': 'No renovable',\n",
       "   'magnitude': None,\n",
       "   'composite': False,\n",
       "   'last-update': '2022-12-12T12:48:43.000+01:00',\n",
       "   'values': [{'value': 14552290.625,\n",
       "     'percentage': 0.5988021528226325,\n",
       "     'datetime': '2022-01-01T00:00:00.000+01:00'}]}}]"
      ]
     },
     "execution_count": 38,
     "metadata": {},
     "output_type": "execute_result"
    }
   ],
   "source": [
    "datos_energia['included']"
   ]
  },
  {
   "cell_type": "code",
   "execution_count": null,
   "metadata": {},
   "outputs": [],
   "source": [
    "for pag in range(1,9):\n",
    "    url = f\"https://www.balldontlie.io/api/v1/players?page={pag}\"\n",
    "    jugadores = requests.get(url)\n",
    "    res_jugadores = jugadores.json()"
   ]
  },
  {
   "cell_type": "code",
   "execution_count": 96,
   "metadata": {},
   "outputs": [],
   "source": [
    "for anyo in range(2011,2023):\n",
    "    \n",
    "    url = f'https://apidatos.ree.es/es/datos/generacion/estructura-generacion?start_date={anyo}-01-01T00:00&end_date={anyo}-12-31T23:59&time_trunc=month'\n",
    "  \n",
    "    energia = requests.get(url)\n",
    "\n",
    "\n",
    "    "
   ]
  },
  {
   "cell_type": "code",
   "execution_count": 97,
   "metadata": {},
   "outputs": [
    {
     "data": {
      "text/plain": [
       "200"
      ]
     },
     "execution_count": 97,
     "metadata": {},
     "output_type": "execute_result"
    }
   ],
   "source": [
    "energia.status_code"
   ]
  }
 ],
 "metadata": {
  "kernelspec": {
   "display_name": "base",
   "language": "python",
   "name": "python3"
  },
  "language_info": {
   "codemirror_mode": {
    "name": "ipython",
    "version": 3
   },
   "file_extension": ".py",
   "mimetype": "text/x-python",
   "name": "python",
   "nbconvert_exporter": "python",
   "pygments_lexer": "ipython3",
   "version": "3.9.7"
  }
 },
 "nbformat": 4,
 "nbformat_minor": 2
}
