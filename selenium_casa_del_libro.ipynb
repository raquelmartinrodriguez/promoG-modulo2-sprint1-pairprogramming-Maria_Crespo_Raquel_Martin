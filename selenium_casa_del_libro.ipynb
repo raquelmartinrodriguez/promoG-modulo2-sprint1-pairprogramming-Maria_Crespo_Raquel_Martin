{
 "cells": [
  {
   "cell_type": "code",
   "execution_count": 1,
   "metadata": {},
   "outputs": [
    {
     "name": "stderr",
     "output_type": "stream",
     "text": [
      "C:\\Users\\maria\\AppData\\Local\\Temp\\ipykernel_9932\\1512904753.py:3: DeprecationWarning: \n",
      "Pyarrow will become a required dependency of pandas in the next major release of pandas (pandas 3.0),\n",
      "(to allow more performant data types, such as the Arrow string type, and better interoperability with other libraries)\n",
      "but was not found to be installed on your system.\n",
      "If this would cause problems for you,\n",
      "please provide us feedback at https://github.com/pandas-dev/pandas/issues/54466\n",
      "        \n",
      "  import pandas as pd  # Pandas es una poderosa librería para manipulación y análisis de datos en Python.\n"
     ]
    }
   ],
   "source": [
    "# Importar librerías para tratamiento de datos\n",
    "# -----------------------------------------------------------------------\n",
    "import pandas as pd  # Pandas es una poderosa librería para manipulación y análisis de datos en Python.\n",
    "\n",
    "# Importar librerías para web scraping y manipulación de datos\n",
    "# -----------------------------------------------------------------------\n",
    "from bs4 import BeautifulSoup\n",
    "import requests\n",
    "\n",
    "# Importar librerías para automatización de navegadores web con Selenium\n",
    "# -----------------------------------------------------------------------\n",
    "from selenium import webdriver  # Selenium es una herramienta para automatizar la interacción con navegadores web.\n",
    "from webdriver_manager.chrome import ChromeDriverManager  # ChromeDriverManager gestiona la instalación del controlador de Chrome.\n",
    "from selenium.webdriver.common.keys import Keys  # Keys es útil para simular eventos de teclado en Selenium.\n",
    "from selenium.webdriver.support.ui import Select  # Select se utiliza para interactuar con elementos <select> en páginas web.\n",
    "\n",
    "# Importar librerías para pausar la ejecución\n",
    "# -----------------------------------------------------------------------\n",
    "from time import sleep  # Sleep se utiliza para pausar la ejecución del programa por un número de segundos.\n",
    "\n",
    "# Configuraciones\n",
    "# -----------------------------------------------------------------------\n",
    "pd.set_option('display.max_columns', None)  # Establece una opción de Pandas para mostrar todas las columnas de un DataFrame."
   ]
  },
  {
   "cell_type": "code",
   "execution_count": 2,
   "metadata": {},
   "outputs": [
    {
     "ename": "NameError",
     "evalue": "name 'titulo' is not defined",
     "output_type": "error",
     "traceback": [
      "\u001b[1;31m---------------------------------------------------------------------------\u001b[0m",
      "\u001b[1;31mNameError\u001b[0m                                 Traceback (most recent call last)",
      "Cell \u001b[1;32mIn[2], line 91\u001b[0m\n\u001b[0;32m     88\u001b[0m \u001b[38;5;28;01mexcept\u001b[39;00m:\n\u001b[0;32m     89\u001b[0m     \u001b[38;5;28;01mpass\u001b[39;00m\n\u001b[1;32m---> 91\u001b[0m top_libros[\u001b[38;5;124m'\u001b[39m\u001b[38;5;124mtitulo\u001b[39m\u001b[38;5;124m'\u001b[39m]\u001b[38;5;241m.\u001b[39mappend(\u001b[43mtitulo\u001b[49m)\n\u001b[0;32m     92\u001b[0m top_libros[\u001b[38;5;124m'\u001b[39m\u001b[38;5;124mautor\u001b[39m\u001b[38;5;124m'\u001b[39m]\u001b[38;5;241m.\u001b[39mappend(autor)\n\u001b[0;32m     93\u001b[0m top_libros[\u001b[38;5;124m'\u001b[39m\u001b[38;5;124mprecio\u001b[39m\u001b[38;5;124m'\u001b[39m]\u001b[38;5;241m.\u001b[39mappend(precio)\n",
      "\u001b[1;31mNameError\u001b[0m: name 'titulo' is not defined"
     ]
    }
   ],
   "source": [
    "driver = webdriver.Chrome()\n",
    "\n",
    "driver.get ('https://www.casadellibro.com/')\n",
    "\n",
    "#maximizamos la ventana\n",
    "driver.maximize_window ()\n",
    "\n",
    "sleep (3)\n",
    "\n",
    "#aceptamos las cookies\n",
    "try:\n",
    "    driver.find_element ('css selector', '#onetrust-accept-btn-handler').click()\n",
    "except:\n",
    "    pass\n",
    "  \n",
    "\n",
    "sleep (5)\n",
    "\n",
    "\n",
    "\n",
    "#vamos a libros de ficción\n",
    "driver.find_element ('css selector', '#app > div.v-application--wrap > div.when-mobile > div.cabecera.desktop > div.bottom-row > div > div > div:nth-child(2)').click()\n",
    "\n",
    "\n",
    "sleep (5)\n",
    "\n",
    "top_libros = {\"titulo\": [] , 'autor' : [], 'precio': [], 'editorial':[], 'idioma': [],'npag': []}\n",
    "\n",
    "for i in range (1,6):\n",
    "\n",
    "    sleep (3)\n",
    "\n",
    "\n",
    "    #entramos en el primer libro\n",
    "    try:\n",
    "    \n",
    "        driver.find_element ('css selector', f'#app > div.v-application--wrap > main > div > div > div > div:nth-child(3) > div > div:nth-child(2) > div > div.swiper > div:nth-child({i}) > a > div > img').click()\n",
    "\n",
    "\n",
    "    except:\n",
    "        pass    \n",
    "\n",
    "    sleep (5)\n",
    "\n",
    "    #sacamos el título del libro\n",
    "\n",
    "    try: \n",
    "        titulo = driver.find_element ('css selector', '#app > div.v-application--wrap > main > div > div > div > div:nth-child(3) > div > div.col-md-5.order-lg-2.col-12.order-1 > div > h1').text\n",
    "        print (titulo)\n",
    "\n",
    "    except:\n",
    "        pass\n",
    "    #sacamos el autor(es) del libro\n",
    "\n",
    "    try: \n",
    "        autor = driver.find_element ('css selector', '#app > div.v-application--wrap > main > div > div > div > div:nth-child(3) > div > div.col-md-5.order-lg-2.col-12.order-1 > div > div.text-h5.d-flex.flex-wrap.author.mb-2.justify-center.justify-sm-start > div > a > span:nth-child(1)').text\n",
    "        print (autor)\n",
    "    except:\n",
    "        pass\n",
    "    \n",
    "    #sacamos el precio del libro \n",
    "\n",
    "    try:\n",
    "        precio = driver.find_element ('css selector', '#app > div.v-application--wrap > main > div > div > div > div:nth-child(3) > div > div.border-left.col-md-4.col-12.order-3 > div > div:nth-child(3) > div.col.col-8 > strong').text\n",
    "        print (precio)\n",
    "    except:\n",
    "        pass\n",
    "\n",
    "    #sacamos la editorial\n",
    "\n",
    "    try:\n",
    "        editorial = driver.find_element ('css selector', '#app > div.v-application--wrap > main > div > div > div > div:nth-child(3) > div > div.col-md-5.order-lg-2.col-12.order-1 > div > div.d-none.d-md-inline > div:nth-child(1) > span:nth-child(1)').text\n",
    "        print (editorial)\n",
    "\n",
    "    except:\n",
    "        pass\n",
    "    #sacamos el idioma\n",
    "    try:\n",
    "        idioma = driver.find_element ('css selector', '#app > div.v-application--wrap > main > div > div > div > div:nth-child(6) > div > div.caracteristicas.mt-4.pt-4 > div:nth-child(3)').text\n",
    "        print (idioma)\n",
    "    except:\n",
    "        pass\n",
    "\n",
    "    #numero de paginas\n",
    "    try:\n",
    "        paginas = driver.find_element ('css selector', '#app > div.v-application--wrap > main > div > div > div > div:nth-child(6) > div > div.caracteristicas.mt-4.pt-4 > div:nth-child(1)').text\n",
    "        print (paginas)\n",
    "    except:\n",
    "        pass\n",
    "\n",
    "    top_libros['titulo'].append(titulo)\n",
    "    top_libros['autor'].append(autor)\n",
    "    top_libros['precio'].append(precio)\n",
    "    top_libros['editorial'].append(editorial)\n",
    "    top_libros['idioma'].append(idioma)\n",
    "    top_libros['npag'].append(paginas)\n",
    "\n",
    "\n",
    "    sleep (5)\n",
    "\n",
    "    driver.back()"
   ]
  },
  {
   "cell_type": "code",
   "execution_count": null,
   "metadata": {},
   "outputs": [
    {
     "name": "stdout",
     "output_type": "stream",
     "text": [
      "{'titulo': ['EL HIJO OLVIDADO', 'EL HIJO OLVIDADO', 'EL HIJO OLVIDADO', 'EL HIJO OLVIDADO', 'EL HIJO OLVIDADO'], 'autor': ['MIKEL SANTIAGO', 'MIKEL SANTIAGO', 'MIKEL SANTIAGO', 'MIKEL SANTIAGO', 'MIKEL SANTIAGO'], 'precio': ['21,75 €', '21,75 €', '21,75 €', '21,75 €', '21,75 €'], 'editorial': ['B', 'B', 'B', 'B', 'B'], 'idioma': ['Idioma:\\nCASTELLANO', 'Idioma:\\nCASTELLANO', 'Idioma:\\nCASTELLANO', 'Idioma:\\nCASTELLANO', 'Idioma:\\nCASTELLANO'], 'npag': ['Idioma:\\nCASTELLANO', 'Idioma:\\nCASTELLANO', 'Idioma:\\nCASTELLANO', 'Idioma:\\nCASTELLANO', 'Idioma:\\nCASTELLANO']}\n"
     ]
    }
   ],
   "source": [
    "print(top_libros)"
   ]
  }
 ],
 "metadata": {
  "kernelspec": {
   "display_name": "base",
   "language": "python",
   "name": "python3"
  },
  "language_info": {
   "codemirror_mode": {
    "name": "ipython",
    "version": 3
   },
   "file_extension": ".py",
   "mimetype": "text/x-python",
   "name": "python",
   "nbconvert_exporter": "python",
   "pygments_lexer": "ipython3",
   "version": "3.11.0"
  }
 },
 "nbformat": 4,
 "nbformat_minor": 2
}
